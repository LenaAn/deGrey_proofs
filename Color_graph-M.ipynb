{
 "cells": [
  {
   "cell_type": "markdown",
   "metadata": {},
   "source": [
    "## Read graph"
   ]
  },
  {
   "cell_type": "code",
   "execution_count": 5,
   "metadata": {},
   "outputs": [],
   "source": [
    "max_vertice = 1345\n",
    "\n",
    "def read(path = 'graphs_txt/M_edges.txt'):    \n",
    "    vertex_neigh = [[] for _ in range(max_vertice+1)]\n",
    "    edges = []\n",
    "    vertices = set()\n",
    "\n",
    "    f = open(path, 'r')\n",
    "    lines = f.readlines()\n",
    "#     print('lines:', lines)\n",
    "\n",
    "    for line in lines:\n",
    "#         print(line.split(','))\n",
    "        fst = int(line.split(',')[0][1:])\n",
    "        snd = int(line.split(',')[1][:-2])\n",
    "        edges.append((fst, snd))\n",
    "        vertices.add(fst)\n",
    "        vertices.add(snd)\n",
    "\n",
    "        vertex_neigh[fst].append(snd)\n",
    "        vertex_neigh[snd].append(fst)\n",
    "    return sorted(list(vertices)), vertex_neigh, edges, "
   ]
  },
  {
   "cell_type": "code",
   "execution_count": 6,
   "metadata": {},
   "outputs": [
    {
     "name": "stdout",
     "output_type": "stream",
     "text": [
      "vertices: [1, 2, 3, 4, 5]\n",
      "vertex_neigh: [[], [2, 3, 4, 5, 6, 7, 286, 287, 304, 307, 321, 326, 353, 358, 578, 587, 641, 650, 696, 705, 759, 768, 988, 993, 1020, 1025, 1039, 1042, 1059, 1060], [1, 3, 7, 690, 691, 712, 715, 734, 741, 776, 783, 999, 1008, 1047, 1054, 1088, 1097, 1147, 1154, 1209, 1212, 1258, 1261, 1275, 1276, 1281, 1282, 1290, 1291, 1296], [1, 2, 4, 482, 483, 512, 515, 542, 549, 583, 588, 680, 779, 787, 853, 860, 915, 924, 990, 996, 1080, 1151, 1155, 1179, 1181, 1189, 1190, 1204, 1205, 1212], [1, 3, 5, 137, 146, 147, 160, 161, 168, 170, 196, 200, 280, 355, 361, 430, 439, 492, 499, 566, 574, 680, 764, 769, 807, 814, 839, 842, 868, 869]]\n",
      "edges:  [(1, 2), (1, 3), (1, 4), (1, 5), (1, 6)]\n",
      "len(vertices): 1345\n",
      "len(vertex_neigh): 1346\n",
      "len(edges):  8268\n"
     ]
    }
   ],
   "source": [
    "vertices, vertex_neigh, edges = read()\n",
    "print('vertices:', vertices[:5])\n",
    "print('vertex_neigh:', vertex_neigh[:5])\n",
    "print('edges: ', edges[:5])\n",
    "\n",
    "print('len(vertices):', len(vertices))\n",
    "print('len(vertex_neigh):', len(vertex_neigh))\n",
    "print('len(edges): ', len(edges))"
   ]
  },
  {
   "cell_type": "markdown",
   "metadata": {},
   "source": [
    "## Count triangles"
   ]
  },
  {
   "cell_type": "code",
   "execution_count": 7,
   "metadata": {},
   "outputs": [],
   "source": [
    "# every triangle occures in triangles 3 times: one for every sorted edge coming first\n",
    "def count_triangles(vertex_neigh, edges):\n",
    "    number_of_triangles_vertex_is_in = [0 for _ in range(max_vertice+1)]\n",
    "    triangles = []\n",
    "    edge_to_third = {}\n",
    "    \n",
    "    for edge in edges:\n",
    "        fst, snd = edge[0], edge[1]\n",
    "        trds = set(vertex_neigh[fst]).intersection(set(vertex_neigh[snd] ))\n",
    "        edge_to_third[(fst, snd)] = trds\n",
    "        number_of_triangles_vertex_is_in[fst] += len(trds)\n",
    "        number_of_triangles_vertex_is_in[snd] += len(trds)\n",
    "        for trd in trds:\n",
    "            triangles.append((fst, snd, trd))\n",
    "    number_of_triangles_vertex_is_in = [item / 2 for item in number_of_triangles_vertex_is_in]\n",
    "    return triangles, edge_to_third, number_of_triangles_vertex_is_in"
   ]
  },
  {
   "cell_type": "code",
   "execution_count": 8,
   "metadata": {},
   "outputs": [
    {
     "name": "stdout",
     "output_type": "stream",
     "text": [
      "triangles: [(1, 2, 3), (1, 2, 7), (1, 3, 2), (1, 3, 4), (1, 4, 3)]\n",
      "edge_to_third: ['{(1, 2): {3, 7}}', '{(1, 3): {2, 4}}', '{(1, 4): {3, 5}}', '{(1, 5): {4, 6}}', '{(1, 6): {5, 7}}']\n",
      "number_of_triangles_vertex_is_in: [0.0, 30.0, 30.0, 30.0, 30.0]\n"
     ]
    }
   ],
   "source": [
    "triangles, edge_to_third, number_of_triangles_vertex_is_in = count_triangles(vertex_neigh, edges)\n",
    "print('triangles:', triangles[:5])\n",
    "print('edge_to_third:', ['{' + str(key) + ': '+ str(edge_to_third[key]) + '}' for key in edge_to_third.keys()][:5])\n",
    "print('number_of_triangles_vertex_is_in:', number_of_triangles_vertex_is_in[:5])\n",
    "assert(sum(number_of_triangles_vertex_is_in) == len(triangles))\n",
    "assert(sum([len(edge_to_third[key]) for key in edge_to_third.keys()]) == len(triangles))"
   ]
  },
  {
   "cell_type": "markdown",
   "metadata": {},
   "source": [
    "## Count spindles"
   ]
  },
  {
   "cell_type": "code",
   "execution_count": 9,
   "metadata": {},
   "outputs": [],
   "source": [
    "def count_spindles(vertex_neigh, edges, edge_to_third):\n",
    "    number_of_spindles_vertex_is_in = [0 for _ in range(max_vertice+1)]\n",
    "    count = 0\n",
    "    for edge_first in edges:\n",
    "        for edge_second in edges:\n",
    "            uppers = edge_to_third[edge_first].intersection(edge_to_third[edge_second])\n",
    "            for upper in uppers:\n",
    "                for lower_left in edge_to_third[edge_first]:\n",
    "                    if lower_left != upper:\n",
    "                        lower_rights = set(vertex_neigh[lower_left]).intersection(edge_to_third[edge_second] - {upper})\n",
    "                        \n",
    "                        number_of_spindles_vertex_is_in[edge_first[0]] += len(lower_rights)\n",
    "                        number_of_spindles_vertex_is_in[edge_first[1]] += len(lower_rights)\n",
    "                        number_of_spindles_vertex_is_in[edge_second[0]] += len(lower_rights)\n",
    "                        number_of_spindles_vertex_is_in[edge_second[1]] += len(lower_rights)\n",
    "                        number_of_spindles_vertex_is_in[upper] += len(lower_rights)\n",
    "                        number_of_spindles_vertex_is_in[lower_left] += len(lower_rights)\n",
    "                        for item in list(lower_rights):\n",
    "                            number_of_spindles_vertex_is_in[lower_left] += 1\n",
    "                        \n",
    "                        count += len(lower_rights)\n",
    "    return count, number_of_spindles_vertex_is_in"
   ]
  },
  {
   "cell_type": "code",
   "execution_count": 10,
   "metadata": {},
   "outputs": [
    {
     "name": "stdout",
     "output_type": "stream",
     "text": [
      "Started: 2019-06-06 04:52:14.103965\n",
      "Finished: 2019-06-06 04:52:38.162091\n",
      "spindles_count: 4464\n",
      "number_of_spindles_vertex_is_in: [0, 252, 252, 252, 252]\n"
     ]
    }
   ],
   "source": [
    "from datetime import datetime\n",
    "\n",
    "\n",
    "print('Started:', datetime.now())\n",
    "spindles_count, number_of_spindles_vertex_is_in = count_spindles(vertex_neigh, edges, edge_to_third)\n",
    "print('Finished:', datetime.now())\n",
    "\n",
    "print('spindles_count:', spindles_count)\n",
    "print('number_of_spindles_vertex_is_in:', number_of_spindles_vertex_is_in[:5])\n",
    "assert(spindles_count == sum(number_of_spindles_vertex_is_in)/7)"
   ]
  },
  {
   "cell_type": "markdown",
   "metadata": {},
   "source": [
    "## Sort vertices"
   ]
  },
  {
   "cell_type": "code",
   "execution_count": 11,
   "metadata": {},
   "outputs": [],
   "source": [
    "def sort(vertices, vertex_neigh, number_of_triangles_vertex_is_in, number_of_spindles_vertex_is_in):\n",
    "    return sorted(vertices, key=lambda x: \n",
    "                  (number_of_spindles_vertex_is_in[x], len(vertex_neigh[x]), number_of_triangles_vertex_is_in[x]), \n",
    "                  reverse=True)"
   ]
  },
  {
   "cell_type": "code",
   "execution_count": 12,
   "metadata": {},
   "outputs": [
    {
     "name": "stdout",
     "output_type": "stream",
     "text": [
      "sorted_vertices: [1, 2, 3, 4, 5, 6, 7, 461, 466, 672]\n",
      "number_of_spindles_vertex_is_in in sorted order: [(252, 30, 30.0), (252, 30, 30.0), (252, 30, 30.0), (252, 30, 30.0), (252, 30, 30.0)]\n"
     ]
    }
   ],
   "source": [
    "sorted_vertices = sort(list(range(1, max_vertice+1)), vertex_neigh, number_of_triangles_vertex_is_in, number_of_spindles_vertex_is_in)\n",
    "print('sorted_vertices:', sorted_vertices[:10])\n",
    "print('number_of_spindles_vertex_is_in in sorted order:', \n",
    "      [(number_of_spindles_vertex_is_in[item], len(vertex_neigh[item]), number_of_triangles_vertex_is_in[item]) \n",
    "           for item in sorted_vertices[:5]])\n",
    "for i in range(1, len(sorted_vertices)):\n",
    "    assert(number_of_spindles_vertex_is_in[sorted_vertices[i-1]] >= number_of_spindles_vertex_is_in[sorted_vertices[i]])"
   ]
  },
  {
   "cell_type": "markdown",
   "metadata": {},
   "source": [
    "## Coloring algorithm"
   ]
  },
  {
   "cell_type": "code",
   "execution_count": 13,
   "metadata": {},
   "outputs": [],
   "source": [
    "def get_next(sorted_vertices, colors_already, verbose=False):\n",
    "    for item in sorted_vertices:\n",
    "        if colors_already[item] == -1:\n",
    "            if verbose:\n",
    "                print('Free coloring', item)\n",
    "            return item\n",
    "    return None"
   ]
  },
  {
   "cell_type": "code",
   "execution_count": 14,
   "metadata": {},
   "outputs": [],
   "source": [
    "# all forced, no choice here\n",
    "# return None -> no coloring with given colors_already, colors_available\n",
    "# return colors_already, colors_available -> ok, choose next vertex\n",
    "\n",
    "def process_just_colored_bfs(vertex, vertex_neigh, colors_already, colors_available, verbose=False):\n",
    "    queue_to_process = [vertex]\n",
    "\n",
    "    while len(queue_to_process) > 0:\n",
    "        vertex = queue_to_process[0]\n",
    "        queue_to_process = queue_to_process[1:]\n",
    "        color = colors_already[vertex]\n",
    "        if verbose:\n",
    "            print('process_just_colored', vertex)\n",
    "        for v in vertex_neigh[vertex]:\n",
    "            if color in colors_available[v]:\n",
    "                colors_available[v].remove(color)\n",
    "            if len(colors_available[v]) == 0:\n",
    "                if verbose:\n",
    "                    print('backtrack', v)\n",
    "                return None\n",
    "            elif len(colors_available[v]) == 1 and colors_already[v] == -1:\n",
    "                colors_already[v] = list(colors_available[v])[0]\n",
    "                queue_to_process.append(v)\n",
    "    return colors_already, colors_available"
   ]
  },
  {
   "cell_type": "code",
   "execution_count": 15,
   "metadata": {},
   "outputs": [],
   "source": [
    "from copy import deepcopy\n",
    "\n",
    "\n",
    "def do_color(sorted_vertices, vertex_neigh, colors_already, colors_available, verbose=False):\n",
    "    next_vert = get_next(sorted_vertices, colors_already, verbose)\n",
    "    if next_vert == None:\n",
    "        return colors_already, colors_available\n",
    "    else:\n",
    "        for color in colors_available[next_vert]:\n",
    "            if verbose:\n",
    "                print('Try', color, 'for', next_vert)\n",
    "            new_colors_already = deepcopy(colors_already)\n",
    "            new_colors_available = deepcopy(colors_available)\n",
    "\n",
    "            new_colors_already[next_vert] = color\n",
    "            new_colors_available[next_vert] = {color}\n",
    "            processed = process_just_colored_bfs(next_vert, vertex_neigh, new_colors_already, new_colors_available, verbose)\n",
    "            if processed == None:\n",
    "                pass\n",
    "            else:\n",
    "                new_colors_already, new_colors_available = processed[0], processed[1]\n",
    "                res = do_color(sorted_vertices, vertex_neigh, new_colors_already, new_colors_available, verbose)\n",
    "                if res != None:\n",
    "                    return res\n",
    "        return None"
   ]
  },
  {
   "cell_type": "markdown",
   "metadata": {},
   "source": [
    "## Essentially distinct ways to color H with at most  4 colors"
   ]
  },
  {
   "cell_type": "code",
   "execution_count": 16,
   "metadata": {},
   "outputs": [],
   "source": [
    "ways_to_color_H = [\n",
    "#     Monochromatic\n",
    "    [1, 2, 3, 2, 3, 2, 3],\n",
    "    [1, 2, 4, 2, 3, 2, 3],\n",
    "    \n",
    "#     No monochromatic\n",
    "    [1, 2, 3, 2, 4, 3, 4],\n",
    "    [1, 2, 3, 4, 2, 3, 4],\n",
    "]"
   ]
  },
  {
   "cell_type": "code",
   "execution_count": 17,
   "metadata": {},
   "outputs": [],
   "source": [
    "Hs_start = [1, 2, 3, 4, 5, 6, 7]"
   ]
  },
  {
   "cell_type": "markdown",
   "metadata": {},
   "source": [
    "## Color the graph"
   ]
  },
  {
   "cell_type": "code",
   "execution_count": 18,
   "metadata": {
    "scrolled": true
   },
   "outputs": [
    {
     "name": "stdout",
     "output_type": "stream",
     "text": [
      "H coloring: [1, 2, 3, 2, 3, 2, 3]\n",
      "[{1, 2, 3, 4}, {1}, {2}, {3}, {2}, {3}, {2}, {3}, {1, 2, 3, 4}, {1, 2, 3, 4}]\n",
      "colors_available[412]: {1, 2, 3, 4}\n",
      "Started: 2019-06-06 04:53:44.905934\n",
      "Finished: 2019-06-06 04:55:08.185664\n",
      "\n",
      "H coloring: [1, 2, 4, 2, 3, 2, 3]\n",
      "[{1, 2, 3, 4}, {1}, {2}, {4}, {2}, {3}, {2}, {3}, {1, 2, 3, 4}, {1, 2, 3, 4}]\n",
      "colors_available[412]: {1, 2, 3, 4}\n",
      "Started: 2019-06-06 04:55:08.186748\n",
      "Finished: 2019-06-06 04:56:41.055798\n",
      "\n"
     ]
    }
   ],
   "source": [
    "for way in ways_to_color_H[:2]:\n",
    "    print('H coloring:', way)\n",
    "    colors_already = [-1 for _ in range(max_vertice+1)]\n",
    "    colors_available = [set({1, 2, 3, 4}) for _ in range(max_vertice+1)]\n",
    "\n",
    "    for i in range(7):\n",
    "        colors_already[ Hs_start[i] ] = way[i]\n",
    "        colors_available[ Hs_start[i] ] = {way[i]}\n",
    "        colors_already, colors_available = process_just_colored_bfs(Hs_start[i], vertex_neigh, colors_already, colors_available, verbose=False)\n",
    "    print(colors_available[:10])\n",
    "    print('colors_available[412]:', colors_available[412])\n",
    "    \n",
    "    print('Started:', datetime.now())\n",
    "    a = do_color(sorted_vertices, vertex_neigh, colors_already, colors_available, verbose=False)\n",
    "    print('Finished:', datetime.now())\n",
    "    \n",
    "    assert(a == None)\n",
    "    print()"
   ]
  }
 ],
 "metadata": {
  "kernelspec": {
   "display_name": "Miniconda3",
   "language": "python",
   "name": "miniconda3"
  },
  "language_info": {
   "codemirror_mode": {
    "name": "ipython",
    "version": 3
   },
   "file_extension": ".py",
   "mimetype": "text/x-python",
   "name": "python",
   "nbconvert_exporter": "python",
   "pygments_lexer": "ipython3",
   "version": "3.6.3"
  }
 },
 "nbformat": 4,
 "nbformat_minor": 2
}
